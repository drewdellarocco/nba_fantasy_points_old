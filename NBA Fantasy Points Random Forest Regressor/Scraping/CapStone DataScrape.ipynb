{
 "cells": [
  {
   "cell_type": "code",
   "execution_count": 35,
   "metadata": {},
   "outputs": [],
   "source": [
    "\n",
    "# Import libaries\n",
    "import numpy as np\n",
    "import pandas as pd\n",
    "import sklearn\n",
    "from sklearn.preprocessing import StandardScaler\n",
    "import requests\n",
    "from bs4 import BeautifulSoup\n"
   ]
  },
  {
   "cell_type": "markdown",
   "metadata": {},
   "source": [
    "# Scraping player info for the slug for the boxscore url"
   ]
  },
  {
   "cell_type": "code",
   "execution_count": 36,
   "metadata": {},
   "outputs": [],
   "source": [
    "pd.set_option('display.max_columns', 150)\n",
    "pd.set_option('display.max_rows', 500)\n",
    "pd.set_option('display.min_rows', 500)"
   ]
  },
  {
   "cell_type": "code",
   "execution_count": 37,
   "metadata": {},
   "outputs": [],
   "source": [
    "alphabet = [\"a\", \"b\", \"c\", \"d\", \"e\", \"f\", \"g\", \"h\", \"i\", \"j\", \"k\", \"l\", \"m\", \"n\",\\\n",
    "            \"o\", \"p\", \"q\", \"r\", \"s\", \"t\", \"u\", \"v\", \"w\", \"y\", \"z\"] "
   ]
  },
  {
   "cell_type": "code",
   "execution_count": 39,
   "metadata": {},
   "outputs": [],
   "source": [
    "\n",
    "players = []\n",
    "for a in alphabet:\n",
    "    url2 = f'https://www.basketball-reference.com/players/{a}/'\n",
    "    r2 = requests.get(url2)\n",
    "    soup2 = BeautifulSoup(r2.content, 'lxml')\n",
    "    table2 = soup2.find('table', {'id' : 'players'})\n",
    "    \n",
    "    for row in table2.find('tbody').find_all('tr'):\n",
    "        player= {}\n",
    "        try:\n",
    "            player['slug'] = row.find('th').attrs['data-append-csv']\n",
    "        except:\n",
    "            player['slug'] = np.nan\n",
    "        try:\n",
    "            player['name'] = row.find('a').text\n",
    "        except:\n",
    "            player['name'] = np.nan\n",
    "        try:\n",
    "            player['year_start'] = row.find('td', {'data-stat' : 'year_min'}).text\n",
    "        except:\n",
    "            player['year_start'] = np.nan\n",
    "        try:\n",
    "            player['year_end'] = row.find('td', {'data-stat' : 'year_max'}).text\n",
    "        except:\n",
    "            player['year_end'] = np.nan\n",
    "        try:\n",
    "            player['position'] = row.find('td', {'data-stat' : 'pos'}).text\n",
    "        except:\n",
    "            player['position'] = np.nan\n",
    "        try:\n",
    "            player['height'] = row.find('td', {'data-stat' : 'height'}).text\n",
    "        except:\n",
    "            player['height'] = np.nan\n",
    "        try:\n",
    "            player['weight'] = row.find('td', {'data-stat' : 'weight'}).text\n",
    "        except:\n",
    "            player['weight'] = np.nan\n",
    "        try:\n",
    "            player['birth_date'] = row.find('td', {'data-stat' : 'birth_date'}).text\n",
    "        except:\n",
    "            player['birth_date'] = np.nan\n",
    "        try:\n",
    "            player['college'] = row.find('td', {'data-stat' : 'colleges'}).text\n",
    "        except:\n",
    "            player['college'] = np.nan\n",
    "    \n",
    "    \n",
    "\n",
    "        players.append(player)\n",
    "        \n",
    "    "
   ]
  },
  {
   "cell_type": "markdown",
   "metadata": {},
   "source": [
    "# Making players DataFrame"
   ]
  },
  {
   "cell_type": "code",
   "execution_count": 40,
   "metadata": {},
   "outputs": [],
   "source": [
    "players_df = pd.DataFrame(players)"
   ]
  },
  {
   "cell_type": "code",
   "execution_count": 41,
   "metadata": {},
   "outputs": [
    {
     "data": {
      "text/html": [
       "<div>\n",
       "<style scoped>\n",
       "    .dataframe tbody tr th:only-of-type {\n",
       "        vertical-align: middle;\n",
       "    }\n",
       "\n",
       "    .dataframe tbody tr th {\n",
       "        vertical-align: top;\n",
       "    }\n",
       "\n",
       "    .dataframe thead th {\n",
       "        text-align: right;\n",
       "    }\n",
       "</style>\n",
       "<table border=\"1\" class=\"dataframe\">\n",
       "  <thead>\n",
       "    <tr style=\"text-align: right;\">\n",
       "      <th></th>\n",
       "      <th>slug</th>\n",
       "      <th>name</th>\n",
       "      <th>year_start</th>\n",
       "      <th>year_end</th>\n",
       "      <th>position</th>\n",
       "      <th>height</th>\n",
       "      <th>weight</th>\n",
       "      <th>birth_date</th>\n",
       "      <th>college</th>\n",
       "    </tr>\n",
       "  </thead>\n",
       "  <tbody>\n",
       "    <tr>\n",
       "      <td>0</td>\n",
       "      <td>abdelal01</td>\n",
       "      <td>Alaa Abdelnaby</td>\n",
       "      <td>1991</td>\n",
       "      <td>1995</td>\n",
       "      <td>F-C</td>\n",
       "      <td>6-10</td>\n",
       "      <td>240</td>\n",
       "      <td>June 24, 1968</td>\n",
       "      <td>Duke</td>\n",
       "    </tr>\n",
       "    <tr>\n",
       "      <td>1</td>\n",
       "      <td>abdulza01</td>\n",
       "      <td>Zaid Abdul-Aziz</td>\n",
       "      <td>1969</td>\n",
       "      <td>1978</td>\n",
       "      <td>C-F</td>\n",
       "      <td>6-9</td>\n",
       "      <td>235</td>\n",
       "      <td>April 7, 1946</td>\n",
       "      <td>Iowa State</td>\n",
       "    </tr>\n",
       "    <tr>\n",
       "      <td>2</td>\n",
       "      <td>abdulka01</td>\n",
       "      <td>Kareem Abdul-Jabbar</td>\n",
       "      <td>1970</td>\n",
       "      <td>1989</td>\n",
       "      <td>C</td>\n",
       "      <td>7-2</td>\n",
       "      <td>225</td>\n",
       "      <td>April 16, 1947</td>\n",
       "      <td>UCLA</td>\n",
       "    </tr>\n",
       "    <tr>\n",
       "      <td>3</td>\n",
       "      <td>abdulma02</td>\n",
       "      <td>Mahmoud Abdul-Rauf</td>\n",
       "      <td>1991</td>\n",
       "      <td>2001</td>\n",
       "      <td>G</td>\n",
       "      <td>6-1</td>\n",
       "      <td>162</td>\n",
       "      <td>March 9, 1969</td>\n",
       "      <td>LSU</td>\n",
       "    </tr>\n",
       "    <tr>\n",
       "      <td>4</td>\n",
       "      <td>abdulta01</td>\n",
       "      <td>Tariq Abdul-Wahad</td>\n",
       "      <td>1998</td>\n",
       "      <td>2003</td>\n",
       "      <td>F</td>\n",
       "      <td>6-6</td>\n",
       "      <td>223</td>\n",
       "      <td>November 3, 1974</td>\n",
       "      <td>Michigan, San Jose State</td>\n",
       "    </tr>\n",
       "  </tbody>\n",
       "</table>\n",
       "</div>"
      ],
      "text/plain": [
       "        slug                 name year_start year_end position height weight  \\\n",
       "0  abdelal01       Alaa Abdelnaby       1991     1995      F-C   6-10    240   \n",
       "1  abdulza01      Zaid Abdul-Aziz       1969     1978      C-F    6-9    235   \n",
       "2  abdulka01  Kareem Abdul-Jabbar       1970     1989        C    7-2    225   \n",
       "3  abdulma02   Mahmoud Abdul-Rauf       1991     2001        G    6-1    162   \n",
       "4  abdulta01    Tariq Abdul-Wahad       1998     2003        F    6-6    223   \n",
       "\n",
       "         birth_date                   college  \n",
       "0     June 24, 1968                      Duke  \n",
       "1     April 7, 1946                Iowa State  \n",
       "2    April 16, 1947                      UCLA  \n",
       "3     March 9, 1969                       LSU  \n",
       "4  November 3, 1974  Michigan, San Jose State  "
      ]
     },
     "execution_count": 41,
     "metadata": {},
     "output_type": "execute_result"
    }
   ],
   "source": [
    "players_df.head()"
   ]
  },
  {
   "cell_type": "code",
   "execution_count": 42,
   "metadata": {},
   "outputs": [
    {
     "data": {
      "text/plain": [
       "slug          object\n",
       "name          object\n",
       "year_start    object\n",
       "year_end      object\n",
       "position      object\n",
       "height        object\n",
       "weight        object\n",
       "birth_date    object\n",
       "college       object\n",
       "dtype: object"
      ]
     },
     "execution_count": 42,
     "metadata": {},
     "output_type": "execute_result"
    }
   ],
   "source": [
    "players_df.dtypes\n",
    "#all are strings, need to convert some to ints"
   ]
  },
  {
   "cell_type": "code",
   "execution_count": 43,
   "metadata": {},
   "outputs": [],
   "source": [
    "#"
   ]
  },
  {
   "cell_type": "code",
   "execution_count": 44,
   "metadata": {},
   "outputs": [],
   "source": [
    "players_df = players_df.astype({'year_start': 'int64'})"
   ]
  },
  {
   "cell_type": "code",
   "execution_count": 45,
   "metadata": {},
   "outputs": [],
   "source": [
    "players_df = players_df.astype({'year_end': 'int64'})"
   ]
  },
  {
   "cell_type": "markdown",
   "metadata": {},
   "source": [
    "# Creating a Dataframe of just current players"
   ]
  },
  {
   "cell_type": "code",
   "execution_count": 46,
   "metadata": {},
   "outputs": [],
   "source": [
    "current_players_df = players_df.loc[players_df['year_end'] > 2019]"
   ]
  },
  {
   "cell_type": "code",
   "execution_count": 47,
   "metadata": {},
   "outputs": [],
   "source": [
    "nineteen_df = players_df[(players_df['year_end'] > 2018) & (players_df['year_start'] < 2019)]"
   ]
  },
  {
   "cell_type": "code",
   "execution_count": 48,
   "metadata": {},
   "outputs": [],
   "source": [
    "current_players_list = current_players_df.to_dict('list')\n",
    "#making it into a list of dictionaires so that can loop throught= them"
   ]
  },
  {
   "cell_type": "code",
   "execution_count": 49,
   "metadata": {},
   "outputs": [
    {
     "data": {
      "text/plain": [
       "dict_keys(['slug', 'name', 'year_start', 'year_end', 'position', 'height', 'weight', 'birth_date', 'college'])"
      ]
     },
     "execution_count": 49,
     "metadata": {},
     "output_type": "execute_result"
    }
   ],
   "source": [
    "current_players_list.keys()"
   ]
  },
  {
   "cell_type": "markdown",
   "metadata": {},
   "source": [
    "# Getting Team Averages"
   ]
  },
  {
   "cell_type": "code",
   "execution_count": 50,
   "metadata": {},
   "outputs": [],
   "source": [
    "team_average_years = ['2004', '2005', '2006', '2007', '2008', '2009', '2010', '2011',\\\n",
    "                      '2012', '2013', '2013', '2015', '2016', '2017', '2018', '2019', '2020']"
   ]
  },
  {
   "cell_type": "code",
   "execution_count": 51,
   "metadata": {},
   "outputs": [],
   "source": [
    "game_months = ['11', '12', '1', '2', '3', '4']"
   ]
  },
  {
   "cell_type": "code",
   "execution_count": 52,
   "metadata": {},
   "outputs": [],
   "source": [
    "team_def_stats = []\n",
    "\n",
    "\n",
    "for y in team_average_years:\n",
    "    for m in game_months:\n",
    "        url3 = f'https://www.teamrankings.com/nba/stat/defensive-efficiency?date=2020-05-25'\n",
    "        r3 = requests.get(url3)\n",
    "        soup3 = BeautifulSoup(r3.content, 'lxml')\n",
    "        div_main = soup3.find('div', {'class': 'main-wrapper clearfix has-left-sidebar'})\n",
    "        main_scrape= div_main.find('main', {'role': 'main'})\n",
    "        table_scrape = main_scrape.find('table')\n",
    "        date_scrape = main_scrape.find('div', {'class': 'table-filters clearfix'})\n",
    "        for row in table_scrape.find('tbody').find_all('tr'):\n",
    "                stats = {}\n",
    "                stats['date'] = date_scrape.find('input').attrs['value']\n",
    "                stats['name'] = row.find_all('td')[1].attrs['data-sort']\n",
    "                stats['current_year_def'] = row.find_all('td')[2].attrs['data-sort']\n",
    "                stats['last_3'] = row.find_all('td')[3].attrs['data-sort']\n",
    "                stats['last_1'] = row.find_all('td')[4].attrs['data-sort']\n",
    "                stats['home'] = row.find_all('td')[5].attrs['data-sort']\n",
    "                stats['away'] = row.find_all('td')[6].attrs['data-sort']\n",
    "                stats['last_year_def'] = row.find_all('td')[7].attrs['data-sort']\n",
    "\n",
    "\n",
    "\n",
    "                team_def_stats.append(stats)\n"
   ]
  },
  {
   "cell_type": "code",
   "execution_count": 53,
   "metadata": {},
   "outputs": [],
   "source": [
    "team_def_df = pd.DataFrame(team_def_stats)"
   ]
  },
  {
   "cell_type": "code",
   "execution_count": 54,
   "metadata": {},
   "outputs": [
    {
     "data": {
      "text/html": [
       "<div>\n",
       "<style scoped>\n",
       "    .dataframe tbody tr th:only-of-type {\n",
       "        vertical-align: middle;\n",
       "    }\n",
       "\n",
       "    .dataframe tbody tr th {\n",
       "        vertical-align: top;\n",
       "    }\n",
       "\n",
       "    .dataframe thead th {\n",
       "        text-align: right;\n",
       "    }\n",
       "</style>\n",
       "<table border=\"1\" class=\"dataframe\">\n",
       "  <thead>\n",
       "    <tr style=\"text-align: right;\">\n",
       "      <th></th>\n",
       "      <th>date</th>\n",
       "      <th>name</th>\n",
       "      <th>current_year_def</th>\n",
       "      <th>last_3</th>\n",
       "      <th>last_1</th>\n",
       "      <th>home</th>\n",
       "      <th>away</th>\n",
       "      <th>last_year_def</th>\n",
       "    </tr>\n",
       "  </thead>\n",
       "  <tbody>\n",
       "    <tr>\n",
       "      <td>0</td>\n",
       "      <td>05/25/2020</td>\n",
       "      <td>Milwaukee</td>\n",
       "      <td>0.986428</td>\n",
       "      <td>0.934015</td>\n",
       "      <td>0.89817</td>\n",
       "      <td>0.988964</td>\n",
       "      <td>0.98389</td>\n",
       "      <td>1.01909</td>\n",
       "    </tr>\n",
       "    <tr>\n",
       "      <td>1</td>\n",
       "      <td>05/25/2020</td>\n",
       "      <td>Toronto</td>\n",
       "      <td>1.01821</td>\n",
       "      <td>1.10336</td>\n",
       "      <td>1.04828</td>\n",
       "      <td>1.02177</td>\n",
       "      <td>1.01427</td>\n",
       "      <td>1.03267</td>\n",
       "    </tr>\n",
       "    <tr>\n",
       "      <td>2</td>\n",
       "      <td>05/25/2020</td>\n",
       "      <td>LA Lakers</td>\n",
       "      <td>1.02687</td>\n",
       "      <td>1.0752</td>\n",
       "      <td>1.09715</td>\n",
       "      <td>1.0114</td>\n",
       "      <td>1.04129</td>\n",
       "      <td>1.06253</td>\n",
       "    </tr>\n",
       "    <tr>\n",
       "      <td>3</td>\n",
       "      <td>05/25/2020</td>\n",
       "      <td>Boston</td>\n",
       "      <td>1.03358</td>\n",
       "      <td>1.07079</td>\n",
       "      <td>1.11082</td>\n",
       "      <td>1.03613</td>\n",
       "      <td>1.03109</td>\n",
       "      <td>1.04194</td>\n",
       "    </tr>\n",
       "    <tr>\n",
       "      <td>4</td>\n",
       "      <td>05/25/2020</td>\n",
       "      <td>LA Clippers</td>\n",
       "      <td>1.03823</td>\n",
       "      <td>1.07961</td>\n",
       "      <td>0.936722</td>\n",
       "      <td>1.02638</td>\n",
       "      <td>1.05045</td>\n",
       "      <td>1.08597</td>\n",
       "    </tr>\n",
       "  </tbody>\n",
       "</table>\n",
       "</div>"
      ],
      "text/plain": [
       "         date         name current_year_def    last_3    last_1      home  \\\n",
       "0  05/25/2020    Milwaukee         0.986428  0.934015   0.89817  0.988964   \n",
       "1  05/25/2020      Toronto          1.01821   1.10336   1.04828   1.02177   \n",
       "2  05/25/2020    LA Lakers          1.02687    1.0752   1.09715    1.0114   \n",
       "3  05/25/2020       Boston          1.03358   1.07079   1.11082   1.03613   \n",
       "4  05/25/2020  LA Clippers          1.03823   1.07961  0.936722   1.02638   \n",
       "\n",
       "      away last_year_def  \n",
       "0  0.98389       1.01909  \n",
       "1  1.01427       1.03267  \n",
       "2  1.04129       1.06253  \n",
       "3  1.03109       1.04194  \n",
       "4  1.05045       1.08597  "
      ]
     },
     "execution_count": 54,
     "metadata": {},
     "output_type": "execute_result"
    }
   ],
   "source": [
    "team_def_df.head()"
   ]
  },
  {
   "cell_type": "code",
   "execution_count": 55,
   "metadata": {},
   "outputs": [],
   "source": [
    "# team_ratings = []\n",
    "# url4 = 'https://www.basketball-reference.com/leagues/NBA_2019_ratings.html'\n",
    "# r4 = requests.get(url4)\n",
    "# soup4 = BeautifulSoup(r4.content, 'lxml')\n",
    "# team_div = soup4.find('div', {'id' : 'div_ratings'})\n",
    "# table4 = team_div.find('table', {'class' : 'sortable'})\n",
    "# for row in table4.find('tbody').find_all('tr'):\n",
    "#     ratings = {}\n",
    "#     ratings['team'] = row.find('td', {'data-stat' : 'team_name'}).text\n",
    "#     ratings['wins'] = row.find('td', {'data-stat' : 'wins'}).text\n",
    "#     ratings['losses'] = row.find('td', {'data-stat' : 'losses'}).text\n",
    "#     ratings['win_pct'] = row.find('td', {'data-stat' : 'win_loss_pct'}).text\n",
    "#     ratings['margin_of_victory'] = row.find('td', {'data-stat' : 'mov'}).text\n",
    "#     ratings['offensive_rating'] = row.find('td', {'data-stat' : 'off_rtg'}).text\n",
    "#     ratings['defensive_rating'] = row.find('td', {'data-stat' : 'def_rtg'}).text\n",
    "#     ratings['net_rating'] = row.find('td', {'data-stat' : 'net_rtg'}).text\n",
    "#     ratings['adjusted_margin_of_victory'] = row.find('td', {'data-stat' : 'mov_adj'}).text\n",
    "#     ratings['adjusted_offensive_ratings'] = row.find('td', {'data-stat' : 'off_rtg_adj'}).text\n",
    "#     ratings['adjusted_defensive_ratings'] = row.find('td', {'data-stat' : 'def_rtg_adj'}).text\n",
    "#     ratings['adjusted_net_rating'] = row.find('td', {'data-stat' : 'net_rtg_adj'}).text\n",
    "#     team_ratings.append(ratings)\n",
    "    \n"
   ]
  },
  {
   "cell_type": "code",
   "execution_count": 56,
   "metadata": {},
   "outputs": [],
   "source": [
    "# for index, row in teams_df.iterrows():\n",
    "#     print(row[0])\n",
    "#     if row[0] == 'Milwaukee Bucks':\n",
    "#              row['test'] = row[5]\n",
    "#     else:\n",
    "#              row['test'] = 'Not Working'"
   ]
  },
  {
   "cell_type": "code",
   "execution_count": 57,
   "metadata": {},
   "outputs": [
    {
     "data": {
      "text/plain": [
       "array(['Milwaukee', 'Toronto', 'LA Lakers', 'Boston', 'LA Clippers',\n",
       "       'Philadelphia', 'Indiana', 'Brooklyn', 'Orlando', 'Denver',\n",
       "       'Okla City', 'Miami', 'Houston', 'Utah', 'Chicago', 'Memphis',\n",
       "       'Dallas', 'Sacramento', 'Phoenix', 'Minnesota', 'New Orleans',\n",
       "       'Detroit', 'New York', 'Charlotte', 'Golden State', 'Portland',\n",
       "       'San Antonio', 'Atlanta', 'Cleveland', 'Washington'], dtype=object)"
      ]
     },
     "execution_count": 57,
     "metadata": {},
     "output_type": "execute_result"
    }
   ],
   "source": [
    "team_def_df['name'].unique()"
   ]
  },
  {
   "cell_type": "code",
   "execution_count": 58,
   "metadata": {},
   "outputs": [],
   "source": [
    "home_abr = []\n",
    "for row in team_def_df['name']:\n",
    "        if row == 'New Orleans':\n",
    "            home_abr.append('NOP')\n",
    "        elif row == 'LA Lakers':\n",
    "            home_abr.append('LAL')\n",
    "        elif row == 'Chicago':\n",
    "            home_abr.append('CHI')\n",
    "        elif row == 'Detroit':\n",
    "            home_abr.append('DET')\n",
    "        elif row == 'Cleveland':\n",
    "            home_abr.append('CLE')\n",
    "        elif row == 'Minnesota':\n",
    "            home_abr.append('MIN')\n",
    "        elif row == 'Memphis':\n",
    "            home_abr.append('MEM')\n",
    "        elif row == 'Washington':\n",
    "            home_abr.append('WAS')\n",
    "        elif row == 'New York':\n",
    "            home_abr.append('NYK')\n",
    "        elif row == 'Okla City':\n",
    "            home_abr.append('OKC')\n",
    "        elif row == 'Sacramento':\n",
    "            home_abr.append('SAC')\n",
    "        elif row == 'Denver':\n",
    "            home_abr.append('DEN')\n",
    "        elif row == 'Atlanta':\n",
    "            home_abr.append('ATL')\n",
    "        elif row == 'Milwaukee':\n",
    "            home_abr.append('MIL')\n",
    "        elif row == 'LA Clippers':\n",
    "            home_abr.append('LAC')\n",
    "        elif row == 'Toronto':\n",
    "            home_abr.append('TOR')\n",
    "        elif row == 'Dallas':\n",
    "            home_abr.append('DAL')\n",
    "        elif row == 'Phoenix':\n",
    "            home_abr.append('PHO')\n",
    "        elif row == 'Portland':\n",
    "            home_abr.append('POR')\n",
    "        elif row == 'Utah':\n",
    "            home_abr.append('UTA')\n",
    "        elif row == 'Miami':\n",
    "            home_abr.append('MIA')\n",
    "        elif row == 'Philadelphia':\n",
    "            home_abr.append('PHI')\n",
    "        elif row == 'Orlando':\n",
    "            home_abr.append('ORL')\n",
    "        elif row == 'Boston':\n",
    "            home_abr.append('BOS')\n",
    "        elif row == 'Indiana':\n",
    "            home_abr.append('IND')\n",
    "        elif row == 'Brooklyn':\n",
    "            home_abr.append('BKN')\n",
    "        elif row == 'Charlotte':\n",
    "            home_abr.append('CHA')\n",
    "        elif row == 'Houston':\n",
    "            home_abr.append('HOU')\n",
    "        elif row == 'San Antonio':\n",
    "            home_abr.append('SAS')\n",
    "        elif row == 'Golden State':\n",
    "            home_abr.append('GSW')\n",
    "        else:\n",
    "            home_abr.append('Forgot to add team!')\n",
    "\n",
    "team_def_df['team_abr'] = home_abr      "
   ]
  },
  {
   "cell_type": "code",
   "execution_count": null,
   "metadata": {},
   "outputs": [],
   "source": [
    "#if month number - 1 = month of main_df & opponent = team_abr, main_df['opponent_def'] = team_def_df['current_year_def']"
   ]
  },
  {
   "cell_type": "code",
   "execution_count": 240,
   "metadata": {},
   "outputs": [
    {
     "data": {
      "text/html": [
       "<div>\n",
       "<style scoped>\n",
       "    .dataframe tbody tr th:only-of-type {\n",
       "        vertical-align: middle;\n",
       "    }\n",
       "\n",
       "    .dataframe tbody tr th {\n",
       "        vertical-align: top;\n",
       "    }\n",
       "\n",
       "    .dataframe thead th {\n",
       "        text-align: right;\n",
       "    }\n",
       "</style>\n",
       "<table border=\"1\" class=\"dataframe\">\n",
       "  <thead>\n",
       "    <tr style=\"text-align: right;\">\n",
       "      <th></th>\n",
       "      <th>date</th>\n",
       "      <th>name</th>\n",
       "      <th>current_year_def</th>\n",
       "      <th>last_3</th>\n",
       "      <th>last_1</th>\n",
       "      <th>home</th>\n",
       "      <th>away</th>\n",
       "      <th>last_year_def</th>\n",
       "      <th>team_abr</th>\n",
       "    </tr>\n",
       "  </thead>\n",
       "  <tbody>\n",
       "    <tr>\n",
       "      <td>0</td>\n",
       "      <td>11/25/2004</td>\n",
       "      <td>San Antonio</td>\n",
       "      <td>0.946133</td>\n",
       "      <td>0.969369</td>\n",
       "      <td>0.832033</td>\n",
       "      <td>0.869777</td>\n",
       "      <td>1.00031</td>\n",
       "      <td>0.920566</td>\n",
       "      <td>SAS</td>\n",
       "    </tr>\n",
       "    <tr>\n",
       "      <td>1</td>\n",
       "      <td>11/25/2004</td>\n",
       "      <td>Cleveland</td>\n",
       "      <td>0.946611</td>\n",
       "      <td>0.943888</td>\n",
       "      <td>0.883336</td>\n",
       "      <td>0.91827</td>\n",
       "      <td>0.982198</td>\n",
       "      <td>1.01009</td>\n",
       "      <td>CLE</td>\n",
       "    </tr>\n",
       "    <tr>\n",
       "      <td>2</td>\n",
       "      <td>11/25/2004</td>\n",
       "      <td>Orlando</td>\n",
       "      <td>0.958222</td>\n",
       "      <td>0.939126</td>\n",
       "      <td>0.943171</td>\n",
       "      <td>0.931939</td>\n",
       "      <td>0.985147</td>\n",
       "      <td>1.06937</td>\n",
       "      <td>ORL</td>\n",
       "    </tr>\n",
       "    <tr>\n",
       "      <td>3</td>\n",
       "      <td>11/25/2004</td>\n",
       "      <td>Golden State</td>\n",
       "      <td>0.965597</td>\n",
       "      <td>0.917961</td>\n",
       "      <td>0.926871</td>\n",
       "      <td>0.948742</td>\n",
       "      <td>0.986601</td>\n",
       "      <td>1.0099</td>\n",
       "      <td>GSW</td>\n",
       "    </tr>\n",
       "    <tr>\n",
       "      <td>4</td>\n",
       "      <td>11/25/2004</td>\n",
       "      <td>Dallas</td>\n",
       "      <td>0.975114</td>\n",
       "      <td>0.972964</td>\n",
       "      <td>0.977639</td>\n",
       "      <td>0.964967</td>\n",
       "      <td>0.983954</td>\n",
       "      <td>1.04071</td>\n",
       "      <td>DAL</td>\n",
       "    </tr>\n",
       "  </tbody>\n",
       "</table>\n",
       "</div>"
      ],
      "text/plain": [
       "         date          name current_year_def    last_3    last_1      home  \\\n",
       "0  11/25/2004   San Antonio         0.946133  0.969369  0.832033  0.869777   \n",
       "1  11/25/2004     Cleveland         0.946611  0.943888  0.883336   0.91827   \n",
       "2  11/25/2004       Orlando         0.958222  0.939126  0.943171  0.931939   \n",
       "3  11/25/2004  Golden State         0.965597  0.917961  0.926871  0.948742   \n",
       "4  11/25/2004        Dallas         0.975114  0.972964  0.977639  0.964967   \n",
       "\n",
       "       away last_year_def team_abr  \n",
       "0   1.00031      0.920566      SAS  \n",
       "1  0.982198       1.01009      CLE  \n",
       "2  0.985147       1.06937      ORL  \n",
       "3  0.986601        1.0099      GSW  \n",
       "4  0.983954       1.04071      DAL  "
      ]
     },
     "execution_count": 240,
     "metadata": {},
     "output_type": "execute_result"
    }
   ],
   "source": [
    "team_def_df.head()"
   ]
  },
  {
   "cell_type": "code",
   "execution_count": 29,
   "metadata": {},
   "outputs": [
    {
     "data": {
      "text/plain": [
       "date                object\n",
       "name                object\n",
       "current_year_def    object\n",
       "last_3              object\n",
       "last_1              object\n",
       "home                object\n",
       "away                object\n",
       "last_year_def       object\n",
       "dtype: object"
      ]
     },
     "execution_count": 29,
     "metadata": {},
     "output_type": "execute_result"
    }
   ],
   "source": [
    "team_def_df.dtypes"
   ]
  },
  {
   "cell_type": "code",
   "execution_count": 59,
   "metadata": {},
   "outputs": [],
   "source": [
    "years = ['2004', '2005', '2006', '2007', '2008',\\\n",
    "         '2009', '2010', '2011', '2012', '2013', '2014', '2015', '2016', '2017', '2018',\\\n",
    "         '2019', '2020']"
   ]
  },
  {
   "cell_type": "markdown",
   "metadata": {},
   "source": [
    "# Scraping the boxscore for each game for every active player in the NBA"
   ]
  },
  {
   "cell_type": "code",
   "execution_count": 60,
   "metadata": {},
   "outputs": [],
   "source": [
    "all_players_stats = []\n",
    "counter = 0\n",
    "for y in years:\n",
    "    for a in alphabet:\n",
    "        for w in players_df['slug'].unique():\n",
    "            first_letter = w[0]\n",
    "            if first_letter == a:\n",
    "                try:\n",
    "                    url = f'https://www.basketball-reference.com/players/{a}/{w}/gamelog/{y}'\n",
    "                    r = requests.get(url)\n",
    "                    soup = BeautifulSoup(r.content, 'lxml')\n",
    "                    table = soup.find('table', {'id': 'pgl_basic'})\n",
    "                    div = soup.find('div', {'itemtype' : 'https://schema.org/Person'})\n",
    "                    name = div.find('h1', {'itemprop' : 'name'})\n",
    "                    for row in table.find('tbody').find_all('tr'):\n",
    "                        game = {}\n",
    "                        game['slug'] = w\n",
    "                        try:\n",
    "                            game['date'] = row.find('td', {'data-stat' : 'date_game'}).text\n",
    "                        except:\n",
    "                            game['date'] = np.nan\n",
    "                        try:\n",
    "                            game['name'] = name.text\n",
    "                        except:\n",
    "                            game['name'] = np.nan\n",
    "                        try:\n",
    "                            game['age'] = row.find('td', {'data-stat' : 'age'}).text\n",
    "                        except:\n",
    "                            game['age'] = np.nan\n",
    "                        try:\n",
    "                            game['team'] = row.find('td', {'data-stat' : 'team_id'}).text\n",
    "                        except:\n",
    "                            game['team'] = np.nan\n",
    "                        try:\n",
    "                            game['away'] = row.find('td', {'data-stat' : 'game_location'}).text\n",
    "                        except:\n",
    "                            game['away'] = np.nan\n",
    "                        try:\n",
    "                            game['opponent'] = row.find('td', {'data-stat' : 'opp_id'}).text\n",
    "                        except:\n",
    "                            game['opponent'] = np.nan\n",
    "                        try:\n",
    "                            game['game_result'] = row.find('td', {'data-stat' : 'game_result'}).text\n",
    "                        except:\n",
    "                            game['game_result'] = np.nan\n",
    "                        try:\n",
    "                            game['minutes_played'] = row.find('td', {'data-stat' : 'mp'}).text\n",
    "                        except:\n",
    "                            game['minutes_played'] = np.nan\n",
    "                        try:\n",
    "                            game['field_goals'] = row.find('td', {'data-stat' : 'fg'}).text\n",
    "                        except:\n",
    "                            game['field_goals'] = np.nan\n",
    "                        try:\n",
    "                            game['field_goals_att'] = row.find('td', {'data-stat' : 'fga'}).text\n",
    "                        except:\n",
    "                            game['field_goals_att'] = np.nan\n",
    "                        try:\n",
    "                            game['field_goal_perc'] = row.find('td', {'data-stat' : 'fg_pct'}).text\n",
    "                        except:\n",
    "                            game['field_goal_perc'] = np.nan\n",
    "                        try:\n",
    "                            game['three_point_made'] = row.find('td', {'data-stat' : 'fg3'}).text\n",
    "                        except:\n",
    "                            game['three_point_made'] = np.nan\n",
    "                        try:\n",
    "                            game['three_point_att'] = row.find('td', {'data-stat' : 'fg3a'}).text\n",
    "                        except:\n",
    "                            game['three_point_att'] = np.nan\n",
    "                        try:\n",
    "                            game['three_point_perc'] = row.find('td', {'data-stat' : 'fg3_pct'}).text\n",
    "                        except:\n",
    "                            game['three_point_perc'] = np.nan\n",
    "                        try:\n",
    "                            game['free_throws_made'] = row.find('td', {'data-stat' : 'ft'}).text\n",
    "                        except:\n",
    "                            game['free_throws_made'] = np.nan\n",
    "                        try:\n",
    "                            game['free_throws_att'] = row.find('td', {'data-stat' : 'fta'}).text\n",
    "                        except:\n",
    "                            game['free_throws_att'] = np.nan\n",
    "                        try:\n",
    "                            game['free_throw_perc'] = row.find('td', {'data-stat' : 'ft_pct'}).text\n",
    "                        except:\n",
    "                            game['free_throw_perc'] = np.nan\n",
    "                        try:\n",
    "                            game['offensive_rebound'] = row.find('td', {'data-stat' : 'orb'}).text\n",
    "                        except:\n",
    "                            game['offensive_rebound'] = np.nan\n",
    "                        try:\n",
    "                            game['defensive_rebound'] = row.find('td', {'data-stat' : 'drb'}).text\n",
    "                        except:\n",
    "                            game['defensive_rebound'] = np.nan\n",
    "                        try:\n",
    "                            game['total_rebounds'] = row.find('td', {'data-stat' : 'trb'}).text\n",
    "                        except:\n",
    "                            game['total_rebounds'] = np.nan\n",
    "                        try:\n",
    "                            game['assists'] = row.find('td', {'data-stat' : 'ast'}).text\n",
    "                        except:\n",
    "                            game['assists'] = np.nan\n",
    "                        try:\n",
    "                            game['steals'] = row.find('td', {'data-stat' : 'stl'}).text\n",
    "                        except:\n",
    "                            game['steals'] = np.nan\n",
    "                        try:\n",
    "                            game['blocks'] = row.find('td', {'data-stat' : 'blk'}).text\n",
    "                        except:\n",
    "                            game['blocks'] = np.nan\n",
    "                        try:\n",
    "                            game['turnovers'] = row.find('td', {'data-stat' : 'tov'}).text\n",
    "                        except:\n",
    "                            game['turnovers'] = np.nan\n",
    "                        try:\n",
    "                            game['personal_fouls'] = row.find('td', {'data-stat' : 'pf'}).text\n",
    "                        except:\n",
    "                            game['personal_fouls'] = np.nan\n",
    "                        try:\n",
    "                            game['points'] = row.find('td', {'data-stat' : 'pts'}).text\n",
    "                        except:\n",
    "                            game['points'] = np.nan\n",
    "                        try:\n",
    "                            game['game_score'] = row.find('td', {'data-stat' : 'game_score'}).text\n",
    "                        except:\n",
    "                            game['game_score'] = np.nan\n",
    "                        try:\n",
    "                            game['plus_minus'] = row.find('td', {'data-stat' : 'plus_minus'}).text\n",
    "                        except:\n",
    "                            game['plus_minus'] = np.nan\n",
    "\n",
    "\n",
    "                        all_players_stats.append(game)\n",
    "                    else:\n",
    "                        continue\n",
    "                except:\n",
    "                    table = np.nan\n",
    "                else:\n",
    "                    continue"
   ]
  },
  {
   "cell_type": "markdown",
   "metadata": {},
   "source": [
    "# Making the players stats DF"
   ]
  },
  {
   "cell_type": "code",
   "execution_count": 286,
   "metadata": {},
   "outputs": [],
   "source": [
    "game_stats_df = pd.DataFrame(all_players_stats)"
   ]
  },
  {
   "cell_type": "code",
   "execution_count": 30,
   "metadata": {},
   "outputs": [
    {
     "ename": "NameError",
     "evalue": "name 'game_stats_df' is not defined",
     "output_type": "error",
     "traceback": [
      "\u001b[0;31m---------------------------------------------------------------------------\u001b[0m",
      "\u001b[0;31mNameError\u001b[0m                                 Traceback (most recent call last)",
      "\u001b[0;32m<ipython-input-30-aaa5d64db923>\u001b[0m in \u001b[0;36m<module>\u001b[0;34m\u001b[0m\n\u001b[0;32m----> 1\u001b[0;31m \u001b[0mgame_stats_df\u001b[0m\u001b[0;34m.\u001b[0m\u001b[0mtail\u001b[0m\u001b[0;34m(\u001b[0m\u001b[0;34m)\u001b[0m\u001b[0;34m\u001b[0m\u001b[0;34m\u001b[0m\u001b[0m\n\u001b[0m",
      "\u001b[0;31mNameError\u001b[0m: name 'game_stats_df' is not defined"
     ]
    }
   ],
   "source": [
    "game_stats_df.tail()"
   ]
  },
  {
   "cell_type": "code",
   "execution_count": 287,
   "metadata": {},
   "outputs": [],
   "source": [
    "final_df = game_stats_df_2020.merge(teams_df, how='left', left_on='team', right_on='team_abr')"
   ]
  },
  {
   "cell_type": "markdown",
   "metadata": {},
   "source": [
    "# Stripping white space"
   ]
  },
  {
   "cell_type": "code",
   "execution_count": 52,
   "metadata": {},
   "outputs": [],
   "source": [
    "list_of_columns = list(game_stats_df.columns.values)"
   ]
  },
  {
   "cell_type": "code",
   "execution_count": 54,
   "metadata": {},
   "outputs": [],
   "source": [
    "for x in list_of_columns:\n",
    "    game_stats_df[x] = game_stats_df[x].str.strip()"
   ]
  },
  {
   "cell_type": "markdown",
   "metadata": {},
   "source": [
    "# Changing column types and other cleaning"
   ]
  },
  {
   "cell_type": "code",
   "execution_count": 55,
   "metadata": {},
   "outputs": [],
   "source": [
    "def columntype_cleaning(df):\n",
    "    df['name'] = df['name'].str[:-17]\n",
    "    df['game_result'] = df['game_result'].str.strip(\"L ()\")\n",
    "    df['game_result'] = df['game_result'].str.strip(\"W ()\")\n",
    "    df['minutes_played'] = df['minutes_played'].str.replace(\":\", \".\")\n",
    "    df['away'] = np.where(df['away'] == \"@\", 1, 0)\n",
    "    df['field_goal_perc'] = df['field_goal_perc'].replace(\"\", np.nan)\n",
    "    df['three_point_perc'] = df['three_point_perc'].replace(\"\", np.nan)\n",
    "    df['plus_minus'] = df['plus_minus'].replace(\"\", np.nan)\n",
    "    df['age'] = df['age'].astype(str)\n",
    "    df['age'] = df['age'].str[:2]\n",
    "    df['away'] = df['away'].astype(int)\n",
    "    df['game_result'] = df['game_result'].astype(float)\n",
    "    df['minutes_played'] = df['minutes_played'].astype(float)\n",
    "    df['field_goals'] = df['field_goals'].astype(float)\n",
    "    df['field_goals_att'] = df['field_goals_att'].astype(float)\n",
    "    df['field_goal_perc'] = df['field_goal_perc'].astype(float)\n",
    "    df['three_point_made'] = df['three_point_made'].astype(float)\n",
    "    df['three_point_att'] = df['three_point_att'].astype(float)\n",
    "    df['three_point_perc'] = df['three_point_perc'].astype(float)\n",
    "    df['offensive_rebound'] = df['offensive_rebound'].astype(float)\n",
    "    df['defensive_rebound'] = df['defensive_rebound'].astype(float)\n",
    "    df['total_rebounds'] = df['total_rebounds'].astype(float)\n",
    "    df['assists'] = df['assists'].astype(float)\n",
    "    df['steals'] = df['steals'].astype(float)\n",
    "    df['blocks'] = df['blocks'].astype(float)\n",
    "    df['turnovers'] = df['turnovers'].astype(float)\n",
    "    df['personal_fouls'] = df['personal_fouls'].astype(float)\n",
    "    df['points'] = df['points'].astype(float)\n",
    "    df['game_score'] = df['game_score'].astype(float)\n",
    "    df['plus_minus'] = df['plus_minus'].astype(float)\n",
    "#     df['wins'] = df['wins'].astype(float)\n",
    "#     df['losses'] = df['losses'].astype(float)\n",
    "#     df['win_pct'] = df['win_pct'].astype(float)\n",
    "#     df['margin_of_victory'] = df['margin_of_victory'].astype(float)\n",
    "#     df['offensive_rating'] = df['offensive_rating'].astype(float)\n",
    "#     df['defensive_rating'] = df['defensive_rating'].astype(float)\n",
    "#     df['net_rating'] = df['net_rating'].astype(float)\n",
    "#     df['adjusted_margin_of_victory'] = df['adjusted_margin_of_victory'].astype(float)\n",
    "#     df['adjusted_offensive_rating'] = df['adjusted_offensive_ratings'].astype(float)\n",
    "#     df['adjusted_defensive_rating'] = df['adjusted_defensive_ratings'].astype(float)\n",
    "#     df['adjusted_net_rating'] = df['adjusted_net_rating'].astype(float)\n",
    "#     df.rename(columns = {'team_x' : 'team'}, inplace=True)\n",
    "#     df = df.drop(columns = ['team_abr', 'team_y'])\n",
    "    "
   ]
  },
  {
   "cell_type": "code",
   "execution_count": 56,
   "metadata": {},
   "outputs": [],
   "source": [
    "columntype_cleaning(game_stats_df)"
   ]
  },
  {
   "cell_type": "code",
   "execution_count": 58,
   "metadata": {},
   "outputs": [
    {
     "data": {
      "text/plain": [
       "slug                      0\n",
       "date                  10815\n",
       "name                      0\n",
       "age                       0\n",
       "team                  10815\n",
       "away                      0\n",
       "opponent              10815\n",
       "game_result           10815\n",
       "minutes_played        64369\n",
       "field_goals           64369\n",
       "field_goals_att       64369\n",
       "field_goal_perc       69239\n",
       "three_point_made      64369\n",
       "three_point_att       64369\n",
       "three_point_perc     118078\n",
       "free_throws_made      64369\n",
       "free_throws_att       64369\n",
       "free_throw_perc       64369\n",
       "offensive_rebound     64369\n",
       "defensive_rebound     64369\n",
       "total_rebounds        64369\n",
       "assists               64369\n",
       "steals                64369\n",
       "blocks                64369\n",
       "turnovers             64369\n",
       "personal_fouls        64369\n",
       "points                64369\n",
       "game_score            64369\n",
       "plus_minus            64641\n",
       "dtype: int64"
      ]
     },
     "execution_count": 58,
     "metadata": {},
     "output_type": "execute_result"
    }
   ],
   "source": [
    "game_stats_df.isna().sum()"
   ]
  },
  {
   "cell_type": "code",
   "execution_count": 60,
   "metadata": {},
   "outputs": [],
   "source": [
    "game_stats_df.to_csv('../player_box_scores_clean.csv', index=False)"
   ]
  },
  {
   "cell_type": "code",
   "execution_count": null,
   "metadata": {},
   "outputs": [],
   "source": [
    "team_def_df.to_csv('../team_defensive_ratings.csv', index=False)"
   ]
  }
 ],
 "metadata": {
  "kernelspec": {
   "display_name": "Python 3",
   "language": "python",
   "name": "python3"
  },
  "language_info": {
   "codemirror_mode": {
    "name": "ipython",
    "version": 3
   },
   "file_extension": ".py",
   "mimetype": "text/x-python",
   "name": "python",
   "nbconvert_exporter": "python",
   "pygments_lexer": "ipython3",
   "version": "3.7.4"
  }
 },
 "nbformat": 4,
 "nbformat_minor": 2
}
